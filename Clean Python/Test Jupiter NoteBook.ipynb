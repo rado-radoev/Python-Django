{
 "cells": [
  {
   "cell_type": "code",
   "execution_count": null,
   "metadata": {},
   "outputs": [],
   "source": [
    "%%writefile test.txt\n",
    "This is line one.\n",
    "This is line two.\n",
    "This is line three.\n",
    "This is line four.\n",
    "This is line five."
   ]
  },
  {
   "cell_type": "code",
   "execution_count": null,
   "metadata": {},
   "outputs": [],
   "source": [
    "myfile = open(\"test.txt\")"
   ]
  },
  {
   "cell_type": "code",
   "execution_count": null,
   "metadata": {},
   "outputs": [],
   "source": [
    "pwd"
   ]
  },
  {
   "cell_type": "code",
   "execution_count": null,
   "metadata": {},
   "outputs": [],
   "source": [
    "myfile.read()"
   ]
  },
  {
   "cell_type": "code",
   "execution_count": null,
   "metadata": {},
   "outputs": [],
   "source": [
    "myfile.close()"
   ]
  },
  {
   "cell_type": "code",
   "execution_count": null,
   "metadata": {},
   "outputs": [],
   "source": []
  },
  {
   "cell_type": "code",
   "execution_count": null,
   "metadata": {},
   "outputs": [],
   "source": []
  },
  {
   "cell_type": "code",
   "execution_count": null,
   "metadata": {},
   "outputs": [],
   "source": [
    "myfile.seek(0)"
   ]
  },
  {
   "cell_type": "code",
   "execution_count": null,
   "metadata": {},
   "outputs": [],
   "source": [
    "from random import randint\n",
    "\n",
    "MIN = 1\n",
    "MAX = 100\n",
    "RAND_NUM = randint(MIN, MAX) + 1\n",
    "print(RAND_NUM)\n",
    "player_number= 0\n",
    "\n",
    "guesses = 0\n",
    "prevGuess = False\n",
    "\n",
    "cold_message = \"COLD\"\n",
    "warm_message = \"WARM\""
   ]
  },
  {
   "cell_type": "code",
   "execution_count": null,
   "metadata": {},
   "outputs": [],
   "source": [
    "player_number in range(RAND_NUM-10, RAND_NUM+10,1)"
   ]
  },
  {
   "cell_type": "code",
   "execution_count": null,
   "metadata": {},
   "outputs": [],
   "source": [
    "(player_number not in range(RAND_NUM-10, RAND_NUM+10,1))"
   ]
  },
  {
   "cell_type": "code",
   "execution_count": null,
   "metadata": {},
   "outputs": [],
   "source": []
  },
  {
   "cell_type": "code",
   "execution_count": null,
   "metadata": {},
   "outputs": [],
   "source": []
  },
  {
   "cell_type": "code",
   "execution_count": null,
   "metadata": {},
   "outputs": [],
   "source": [
    "player_number"
   ]
  },
  {
   "cell_type": "code",
   "execution_count": null,
   "metadata": {},
   "outputs": [],
   "source": [
    "player_number = int(input(\"Choose a number between {min} and {max}:\\n\".format(min=MIN, max=MAX)))"
   ]
  },
  {
   "cell_type": "code",
   "execution_count": null,
   "metadata": {},
   "outputs": [],
   "source": []
  },
  {
   "cell_type": "code",
   "execution_count": null,
   "metadata": {},
   "outputs": [],
   "source": [
    "player_number != RAND_NUM"
   ]
  },
  {
   "cell_type": "code",
   "execution_count": null,
   "metadata": {},
   "outputs": [],
   "source": [
    "player_number"
   ]
  },
  {
   "cell_type": "code",
   "execution_count": null,
   "metadata": {},
   "outputs": [],
   "source": [
    "RAND_NUM"
   ]
  },
  {
   "cell_type": "code",
   "execution_count": null,
   "metadata": {},
   "outputs": [],
   "source": [
    "player_number = input(\"Choose a number between {min} and {max}\".format(min=MIN, max=MAX))"
   ]
  },
  {
   "cell_type": "code",
   "execution_count": null,
   "metadata": {},
   "outputs": [],
   "source": [
    "player_number"
   ]
  },
  {
   "cell_type": "code",
   "execution_count": null,
   "metadata": {},
   "outputs": [],
   "source": [
    "type(player_number)"
   ]
  },
  {
   "cell_type": "code",
   "execution_count": null,
   "metadata": {},
   "outputs": [],
   "source": [
    "a = 2\n",
    "b = 5\n",
    "a > b"
   ]
  },
  {
   "cell_type": "code",
   "execution_count": null,
   "metadata": {},
   "outputs": [],
   "source": [
    "n = 195\n",
    "n in range(90,110) or n in range(190,210)"
   ]
  },
  {
   "cell_type": "code",
   "execution_count": null,
   "metadata": {},
   "outputs": [],
   "source": [
    "a = 5\n",
    "b = 11\n",
    "c = 20\n",
    "11 in (a,b,c)"
   ]
  },
  {
   "cell_type": "code",
   "execution_count": null,
   "metadata": {},
   "outputs": [],
   "source": [
    "def myfunc(name=\"Name\"):\n",
    "    print(\"Hello {0}}\".format(name))"
   ]
  },
  {
   "cell_type": "code",
   "execution_count": null,
   "metadata": {},
   "outputs": [],
   "source": [
    "myfunc(\"Pedro\")"
   ]
  },
  {
   "cell_type": "code",
   "execution_count": null,
   "metadata": {},
   "outputs": [],
   "source": [
    "def myfunc(**args):\n",
    "    print(args)\n",
    "#    list = [item for item in args]\n",
    "#    return list"
   ]
  },
  {
   "cell_type": "code",
   "execution_count": null,
   "metadata": {},
   "outputs": [],
   "source": [
    "myfunc(51,6)"
   ]
  },
  {
   "cell_type": "code",
   "execution_count": null,
   "metadata": {},
   "outputs": [],
   "source": [
    "def myfunc(s):\n",
    "    list = []\n",
    "    for i in range(len(s)):\n",
    "        if i % 2 == 0:\n",
    "            list.append(s[i].upper())\n",
    "        else:\n",
    "            list.append(s[i])\n",
    "            \n",
    "    return \"\".join(list)"
   ]
  },
  {
   "cell_type": "code",
   "execution_count": null,
   "metadata": {},
   "outputs": [],
   "source": [
    "myfunc(\"test\")"
   ]
  },
  {
   "cell_type": "code",
   "execution_count": null,
   "metadata": {},
   "outputs": [],
   "source": [
    "s = \"test\""
   ]
  },
  {
   "cell_type": "code",
   "execution_count": null,
   "metadata": {},
   "outputs": [],
   "source": [
    "type(s)"
   ]
  },
  {
   "cell_type": "code",
   "execution_count": null,
   "metadata": {},
   "outputs": [],
   "source": [
    "s.swapcase\n"
   ]
  },
  {
   "cell_type": "code",
   "execution_count": null,
   "metadata": {},
   "outputs": [],
   "source": [
    "s.swapcase()"
   ]
  },
  {
   "cell_type": "code",
   "execution_count": null,
   "metadata": {},
   "outputs": [],
   "source": [
    "s.casefold()"
   ]
  },
  {
   "cell_type": "code",
   "execution_count": null,
   "metadata": {},
   "outputs": [],
   "source": [
    "s.lower()"
   ]
  },
  {
   "cell_type": "code",
   "execution_count": null,
   "metadata": {},
   "outputs": [],
   "source": [
    "100-110"
   ]
  },
  {
   "cell_type": "code",
   "execution_count": null,
   "metadata": {},
   "outputs": [],
   "source": []
  },
  {
   "cell_type": "code",
   "execution_count": null,
   "metadata": {},
   "outputs": [],
   "source": [
    "abs(100-110)"
   ]
  },
  {
   "cell_type": "code",
   "execution_count": null,
   "metadata": {},
   "outputs": [],
   "source": [
    "sum((10,10))"
   ]
  },
  {
   "cell_type": "code",
   "execution_count": null,
   "metadata": {},
   "outputs": [],
   "source": [
    "def vol(rad:\n",
    "    return (4.0/3.0) * 3.14 * (float(rad)**3)"
   ]
  },
  {
   "cell_type": "code",
   "execution_count": null,
   "metadata": {},
   "outputs": [],
   "source": [
    "vol(2)"
   ]
  },
  {
   "cell_type": "code",
   "execution_count": null,
   "metadata": {},
   "outputs": [],
   "source": [
    "def up_low(s):\n",
    "    for c in str(s):\n",
    "        if "
   ]
  },
  {
   "cell_type": "code",
   "execution_count": null,
   "metadata": {},
   "outputs": [],
   "source": [
    "print(\"{0:s}\".format(31 *\"-\"))\n",
    "print(\"{separator}{row1col1:>5}{separator:>5}{row1col2:>5s}{separator:>5}{row1col2:>5s}{separator:>5}\".format(separator=\"|\",row1col1=\"X\",row1col2=\"O\",row1col3=\"X\"))\n",
    "print(\"{0:s}\".format(31 *\"-\"))\n",
    "print(\"{separator}{row2col1:>5}{separator:>5}{row2col2:>5s}{separator:>5}{row2col2:>5s}{separator:>5}\".format(separator=\"|\",row2col1=\"X\",row2col2=\"O\",row2col3=\"X\"))\n",
    "print(\"{0:s}\".format(31 *\"-\"))\n",
    "print(\"{separator}{row3col1:>5}{separator:>5}{row3col2:>5s}{separator:>5}{row3col2:>5s}{separator:>5}\".format(separator=\"|\",row3col1=\"X\",row3col2=\"O\",row3col3=\"X\"))\n",
    "print(\"{0:s}\".format(31 *\"-\"))"
   ]
  },
  {
   "cell_type": "code",
   "execution_count": null,
   "metadata": {},
   "outputs": [],
   "source": [
    "print(\"{test:>10}\".format(test=\"testis\"))"
   ]
  },
  {
   "cell_type": "code",
   "execution_count": null,
   "metadata": {},
   "outputs": [],
   "source": [
    "position = {'row1col1':'', 'row1col2':'', 'row1col3':'', 'row2col1':'', 'row2col2':'', 'row2col3':'', 'row3col1':'', 'row3col2':'', 'row3col3':''}"
   ]
  },
  {
   "cell_type": "code",
   "execution_count": null,
   "metadata": {},
   "outputs": [],
   "source": [
    "def myfunc(position):\n",
    "    print(position['row1col1'])\n",
    "    \n",
    "position = {'row1col1':'big testis'}   \n",
    "myfunc(position)"
   ]
  },
  {
   "cell_type": "code",
   "execution_count": null,
   "metadata": {},
   "outputs": [],
   "source": [
    "print(\"Enter column and row numbers separated by space.\\nRow:\\tCol:\")"
   ]
  },
  {
   "cell_type": "code",
   "execution_count": null,
   "metadata": {},
   "outputs": [],
   "source": [
    "    print(\"Enter column and row numbers separated by space.\\nRow: Col:\")\n",
    "    x, y = map(int, input().split())\n",
    "    "
   ]
  },
  {
   "cell_type": "code",
   "execution_count": null,
   "metadata": {},
   "outputs": [],
   "source": [
    "x"
   ]
  },
  {
   "cell_type": "code",
   "execution_count": null,
   "metadata": {},
   "outputs": [],
   "source": [
    "if x and y > 10:\n",
    "    print(\"True\")\n",
    "else:\n",
    "    print(\"False\")"
   ]
  },
  {
   "cell_type": "code",
   "execution_count": null,
   "metadata": {},
   "outputs": [],
   "source": [
    "def player_move(plyer, position):\n",
    "    x = y = -1\n",
    "    \n",
    "    while (x and y <= 0) or (x and y > 3):\n",
    "        print(\"Enter column and row numbers separated by space.\\nRow: Col:\")\n",
    "        x, y = map(int, input().split())"
   ]
  },
  {
   "cell_type": "code",
   "execution_count": null,
   "metadata": {},
   "outputs": [],
   "source": [
    "player_move(1, 1)"
   ]
  },
  {
   "cell_type": "code",
   "execution_count": null,
   "metadata": {},
   "outputs": [],
   "source": [
    "f\"row{x}col{y}\""
   ]
  },
  {
   "cell_type": "code",
   "execution_count": 26,
   "metadata": {},
   "outputs": [],
   "source": [
    "position = {'row1col1':'a', 'row1col2':'a', 'row1col3':'a', 'row2col1':'aa', 'row2col2':'a', 'row2col3':'a', 'row3col1':'a', 'row3col2':'a', 'row3col3':'a'}"
   ]
  },
  {
   "cell_type": "code",
   "execution_count": null,
   "metadata": {},
   "outputs": [],
   "source": [
    "def player_move(player, position):\n",
    "    x = y = -1\n",
    "    \n",
    "    new_position = position\n",
    "    \n",
    "    while (x and y <= 0) or (x and y > 3):\n",
    "        print(\"Enter column and row numbers separated by space.\\nRow: Col:\")\n",
    "        x, y = map(int, input().split())\n",
    "    \n",
    "        update_cell = f\"row{x}col{y}\"\n",
    "        \n",
    "        if position[update_cell] != \"\":\n",
    "            print(f\"Cell at row: {x} col: {y} is already taken by: {position[update_cell]}\")\n",
    "            x = y = -1\n",
    "        \n",
    "    update_cell = f\"row{x}col{y}\"\n",
    "    new_position[update_cell] = player\n",
    "        \n",
    "    return new_position\n"
   ]
  },
  {
   "cell_type": "code",
   "execution_count": null,
   "metadata": {},
   "outputs": [],
   "source": [
    "player_move(\"X\", position)"
   ]
  },
  {
   "cell_type": "code",
   "execution_count": null,
   "metadata": {},
   "outputs": [],
   "source": [
    "def print_board(position):\n",
    "    print(\"{0:s}\".format(31 *\"-\"))\n",
    "    print(\"{separator}{row1col1:>5}{separator:>5}{row1col2:>5s}{separator:>5}{row1col3:>5s}{separator:>5}\".format(\n",
    "            separator=\"|\",\n",
    "            row1col1=position['row1col1'],\n",
    "            row1col2=position['row1col2'],\n",
    "            row1col3=position['row1col3']))\n",
    "    print(\"{0:s}\".format(31 *\"-\"))\n",
    "    print(\"{separator}{row2col1:>5}{separator:>5}{row2col2:>5s}{separator:>5}{row2col3:>5s}{separator:>5}\".format(\n",
    "            separator=\"|\",\n",
    "            row2col1=position['row2col1'],\n",
    "            row2col2=position['row2col2'],\n",
    "            row2col3=position['row2col3']))\n",
    "    print(\"{0:s}\".format(31 *\"-\"))\n",
    "    print(\"{separator}{row3col1:>5}{separator:>5}{row3col2:>5s}{separator:>5}{row3col3:>5s}{separator:>5}\".format(\n",
    "            separator=\"|\",\n",
    "            row3col1=position['row3col1'],\n",
    "            row3col2=position['row3col2'],\n",
    "            row3col3=position['row3col3']))\n",
    "    print(\"{0:s}\".format(31 *\"-\"))"
   ]
  },
  {
   "cell_type": "code",
   "execution_count": null,
   "metadata": {},
   "outputs": [],
   "source": [
    "new_move = player_move(\"X\", position)\n",
    "print_board(new_move)"
   ]
  },
  {
   "cell_type": "code",
   "execution_count": null,
   "metadata": {},
   "outputs": [],
   "source": [
    "def check_score(position):\n",
    "    result = None\n",
    "    if position['row1col1'] == position['row1col2'] == position['row1col3']: result = (True, position['row1col1'].upper())\n",
    "    if position['row2col1'] == position['row2col2'] == position['row2col3']: result = (True, position['row2col1'].upper())\n",
    "    if position['row3col1'] == position['row3col2'] == position['row3col3']: result = (True, position['row3col1'].upper())\n",
    "    \n",
    "    if position['row1col1'] == position['row2col2'] == position['row3col3']: result = (True, position['row1col1'].upper())\n",
    "    if position['row3col1'] == position['row2col2'] == position['row1col3']: result = (True, position['row3col1'].upper())\n",
    "    \n",
    "    return result\n",
    "        "
   ]
  },
  {
   "cell_type": "code",
   "execution_count": null,
   "metadata": {},
   "outputs": [],
   "source": [
    "check_score(position)"
   ]
  },
  {
   "cell_type": "code",
   "execution_count": null,
   "metadata": {},
   "outputs": [],
   "source": [
    "result = None"
   ]
  },
  {
   "cell_type": "code",
   "execution_count": null,
   "metadata": {},
   "outputs": [
    {
     "name": "stdout",
     "output_type": "stream",
     "text": [
      "-------------------------------\n",
      "|         |         |         |\n",
      "-------------------------------\n",
      "|         |         |         |\n",
      "-------------------------------\n",
      "|         |         |         |\n",
      "-------------------------------\n",
      "Enter column and row numbers separated by space.\n",
      "Row: Col:\n",
      "1 1\n",
      "{'row1col1': 'X', 'row1col2': '', 'row1col3': '', 'row2col1': '', 'row2col2': '', 'row2col3': '', 'row3col1': '', 'row3col2': '', 'row3col3': ''}\n",
      "-------------------------------\n",
      "|    X    |         |         |\n",
      "-------------------------------\n",
      "|         |         |         |\n",
      "-------------------------------\n",
      "|         |         |         |\n",
      "-------------------------------\n",
      "(False, '')\n",
      "Enter column and row numbers separated by space.\n",
      "Row: Col:\n",
      "1 2\n",
      "{'row1col1': 'X', 'row1col2': 'O', 'row1col3': '', 'row2col1': '', 'row2col2': '', 'row2col3': '', 'row3col1': '', 'row3col2': '', 'row3col3': ''}\n",
      "-------------------------------\n",
      "|    X    |    O    |    O    |\n",
      "-------------------------------\n",
      "|         |         |         |\n",
      "-------------------------------\n",
      "|         |         |         |\n",
      "-------------------------------\n",
      "(False, '')\n",
      "Enter column and row numbers separated by space.\n",
      "Row: Col:\n"
     ]
    }
   ],
   "source": [
    "#!/usr/bin/env python3\n",
    "# -*- coding: utf-8 -*-\n",
    "\"\"\"\n",
    "Created on Sun Nov 11 23:33:32 2018\n",
    "\n",
    "@author: superlamer\n",
    "\"\"\"\n",
    "\n",
    "\"\"\"\n",
    "This is a tic tac toe game \n",
    "Two players can play on the same computer\n",
    "\"\"\"\n",
    "\n",
    "def print_board(position):\n",
    "    print(\"{0:s}\".format(31 *\"-\"))\n",
    "    print(\"{separator}{row1col1:>5}{separator:>5}{row1col2:>5s}{separator:>5}{row1col2:>5s}{separator:>5}\".format(\n",
    "            separator=\"|\",\n",
    "            row1col1=position['row1col1'],\n",
    "            row1col2=position['row1col2'],\n",
    "            row1col3=position['row1col3']))\n",
    "    print(\"{0:s}\".format(31 *\"-\"))\n",
    "    print(\"{separator}{row2col1:>5}{separator:>5}{row2col2:>5s}{separator:>5}{row2col2:>5s}{separator:>5}\".format(\n",
    "            separator=\"|\",\n",
    "            row2col1=position['row2col1'],\n",
    "            row2col2=position['row2col2'],\n",
    "            row2col3=position['row3col3']))\n",
    "    print(\"{0:s}\".format(31 *\"-\"))\n",
    "    print(\"{separator}{row3col1:>5}{separator:>5}{row3col2:>5s}{separator:>5}{row3col2:>5s}{separator:>5}\".format(\n",
    "            separator=\"|\",\n",
    "            row3col1=position['row3col1'],\n",
    "            row3col2=position['row3col2'],\n",
    "            row3col3=position['row3col3']))\n",
    "    print(\"{0:s}\".format(31 *\"-\"))\n",
    "    \n",
    "    \n",
    "def check_score(position):\n",
    "    if position['row1col1'] != \"\" and position['row1col1'] == position['row1col2'] == position['row1col3']: \n",
    "        return (True, position['row1col1'].upper())\n",
    "    elif position['row2col1'] != \"\" and position['row2col1'] == position['row2col2'] == position['row2col3']: \n",
    "        return (True, position['row2col1'].upper())\n",
    "    elif position['row3col1'] != \"\" and position['row3col1'] == position['row3col2'] == position['row3col3']: \n",
    "        return (True, position['row3col1'].upper()) \n",
    "    elif position['row1col1'] != \"\" and position['row1col1'] == position['row2col2'] == position['row3col3']: \n",
    "        return (True, position['row1col1'].upper())\n",
    "    elif position['row3col1'] != \"\" and position['row3col1'] == position['row2col2'] == position['row1col3']: \n",
    "        return (True, position['row3col1'].upper())\n",
    "    \n",
    "    return (False, \"\")\n",
    "\n",
    "\n",
    "def player_move(player, position):\n",
    "    x = y = -1\n",
    "    \n",
    "    new_position = position\n",
    "    \n",
    "    while (x and y <= 0) or (x and y > 3):\n",
    "        print(\"Enter column and row numbers separated by space.\\nRow: Col:\")\n",
    "        x, y = map(int, input().split())\n",
    "    \n",
    "        update_cell = f\"row{x}col{y}\"\n",
    "        \n",
    "        if position[update_cell] != \"\":\n",
    "            print(f\"Cell at row: {x} col: {y} is already taken by: {position[update_cell]}\")\n",
    "            x = y = -1\n",
    "        \n",
    "    update_cell = f\"row{x}col{y}\"\n",
    "    new_position[update_cell] = player\n",
    "        \n",
    "    return new_position\n",
    "       \n",
    "def congratulate_winner(player):\n",
    "    print(f\"Congratulations! Player {player} won!\")\n",
    "\n",
    "def game_on():\n",
    "    first_player = \"X\"\n",
    "    second_player = \"O\"\n",
    "    position = {'row1col1':'', 'row1col2':'', 'row1col3':'', 'row2col1':'', 'row2col2':'', 'row2col3':'', 'row3col1':'', 'row3col2':'', 'row3col3':''}\n",
    "    game_over = False\n",
    "    current_player = first_player\n",
    "    print_board(position)\n",
    "    \n",
    "    while not game_over:\n",
    "        player_turn = current_player\n",
    "        \n",
    "        new_position = player_move(current_player, position)\n",
    "        print(new_position)\n",
    "        print_board(new_position)\n",
    "        is_winner = check_score(new_position)\n",
    "        print(is_winner)\n",
    "        \n",
    "        if (is_winner[0]):\n",
    "            congratulate_winner(is_winner[-1])\n",
    "            game_over = True\n",
    "        else:\n",
    "            if current_player == first_player:\n",
    "                current_player = second_player\n",
    "            else:\n",
    "                current_player = first_player\n",
    "                \n",
    "        position = new_position\n",
    "        new_position = None\n",
    "        \n",
    "        \n",
    "game_on()"
   ]
  },
  {
   "cell_type": "code",
   "execution_count": 6,
   "metadata": {},
   "outputs": [
    {
     "ename": "IndentationError",
     "evalue": "unexpected indent (<ipython-input-6-cdeca0870808>, line 2)",
     "output_type": "error",
     "traceback": [
      "\u001b[0;36m  File \u001b[0;32m\"<ipython-input-6-cdeca0870808>\"\u001b[0;36m, line \u001b[0;32m2\u001b[0m\n\u001b[0;31m    first_player_marker = \"\"\u001b[0m\n\u001b[0m    ^\u001b[0m\n\u001b[0;31mIndentationError\u001b[0m\u001b[0;31m:\u001b[0m unexpected indent\n"
     ]
    }
   ],
   "source": [
    "markers = (\"X\", \"O\")\n",
    "    first_player_marker = \"\"\n",
    "    second_player_marker = \"\"\n",
    "    \n",
    "    while first_player_marker not in markers:\n",
    "        first_player_marker = input(f\"Player 1, choose your markers \\\"{markers[0]}\\\" or \\\"{markers[-1]}\\\":\")"
   ]
  },
  {
   "cell_type": "code",
   "execution_count": 8,
   "metadata": {},
   "outputs": [
    {
     "name": "stdout",
     "output_type": "stream",
     "text": [
      "Player 1, choose your markers \"X\" or \"O\":o\n"
     ]
    }
   ],
   "source": [
    "markers = (\"X\", \"O\")\n",
    "first_player_marker = \"\"\n",
    "second_player_marker = \"\"\n",
    "\n",
    "while first_player_marker not in markers:\n",
    "    first_player_marker = (input(f\"Player 1, choose your markers \\\"{markers[0]}\\\" or \\\"{markers[-1]}\\\":\")).upper()"
   ]
  },
  {
   "cell_type": "code",
   "execution_count": 28,
   "metadata": {},
   "outputs": [],
   "source": [
    " "
   ]
  },
  {
   "cell_type": "code",
   "execution_count": 29,
   "metadata": {},
   "outputs": [
    {
     "data": {
      "text/plain": [
       "True"
      ]
     },
     "execution_count": 29,
     "metadata": {},
     "output_type": "execute_result"
    }
   ],
   "source": [
    "check_full_board(position)"
   ]
  },
  {
   "cell_type": "code",
   "execution_count": 13,
   "metadata": {},
   "outputs": [
    {
     "data": {
      "text/plain": [
       "{'row1col1': '',\n",
       " 'row1col2': '',\n",
       " 'row1col3': '',\n",
       " 'row2col1': '',\n",
       " 'row2col2': '',\n",
       " 'row2col3': '',\n",
       " 'row3col1': '',\n",
       " 'row3col2': '',\n",
       " 'row3col3': ''}"
      ]
     },
     "execution_count": 13,
     "metadata": {},
     "output_type": "execute_result"
    }
   ],
   "source": [
    "position"
   ]
  },
  {
   "cell_type": "code",
   "execution_count": 27,
   "metadata": {},
   "outputs": [
    {
     "data": {
      "text/plain": [
       "dict_values(['a', 'a', 'a', 'aa', 'a', 'a', 'a', 'a', 'a'])"
      ]
     },
     "execution_count": 27,
     "metadata": {},
     "output_type": "execute_result"
    }
   ],
   "source": [
    "position.values()"
   ]
  },
  {
   "cell_type": "code",
   "execution_count": 15,
   "metadata": {},
   "outputs": [
    {
     "data": {
      "text/plain": [
       "dict_values"
      ]
     },
     "execution_count": 15,
     "metadata": {},
     "output_type": "execute_result"
    }
   ],
   "source": [
    "type(position.values())"
   ]
  },
  {
   "cell_type": "code",
   "execution_count": 32,
   "metadata": {},
   "outputs": [
    {
     "name": "stdout",
     "output_type": "stream",
     "text": [
      "Play another game \"(Y)es\" or \"(N)o\"?y\n",
      "y\n",
      "restart game\n"
     ]
    }
   ],
   "source": [
    "another_game = \"\"\n",
    "while another_game != \"y\" and another_game != \"n\":\n",
    "    another_game = (input(\"Play another game \\\"(Y)es\\\" or \\\"(N)o\\\"?\"))[0].lower()\n",
    "    print (another_game)\n",
    "\n",
    "if another_game == 'y':\n",
    "    print(\"restart game\")\n",
    "else:\n",
    "    print(\"Goodbye!\")"
   ]
  },
  {
   "cell_type": "code",
   "execution_count": null,
   "metadata": {},
   "outputs": [],
   "source": []
  }
 ],
 "metadata": {
  "kernelspec": {
   "display_name": "Python 3",
   "language": "python",
   "name": "python3"
  },
  "language_info": {
   "codemirror_mode": {
    "name": "ipython",
    "version": 3
   },
   "file_extension": ".py",
   "mimetype": "text/x-python",
   "name": "python",
   "nbconvert_exporter": "python",
   "pygments_lexer": "ipython3",
   "version": "3.6.4"
  }
 },
 "nbformat": 4,
 "nbformat_minor": 2
}
